{
 "cells": [
  {
   "cell_type": "markdown",
   "id": "f5e6b841-1a1a-4593-98ad-b9eae2987b2e",
   "metadata": {},
   "source": [
    "# 자바스크립트를 이용해서 파일 읽고 쓰기\n",
    "---\n",
    "프로그래밍을 하다 보면 파일을 읽고 쓰는 작업이 빈번하게 일어납니다. 자바스크립트(JavaScript) 또한 예외는 아닌데요, 이번에는 자바스크립트에서 지원하는 파일 읽고 쓰기 방법에 대해 알아보도록 하겠습니다.\n",
    "</p></br></br>\n",
    "\n",
    "## fs.readFile()을 이용해 파일 읽기\n",
    "---\n",
    "Node.js 기준으로 파일 입출력을 설명해 보자면, `fs` 라고 하는 모듈의 `readFile()` 함수에서 텍스트 기반 파일의 읽기를 지원하고 있습니다. 매개변수로 파일 이름과 인코딩 형식만 지정해 주면 되니까 쓰기도 간편하지요. 자세한 사용 방법은 아래 코드를 참조해 주시기 바랍니다.\n",
    "</p></br></br>\n"
   ]
  },
  {
   "cell_type": "code",
   "execution_count": 1,
   "id": "135a5edc-c15d-47ee-9bc8-191f92b7d926",
   "metadata": {},
   "outputs": [
    {
     "name": "stdout",
     "output_type": "stream",
     "text": [
      "Hello!\n"
     ]
    }
   ],
   "source": [
    "// Import module\n",
    "const fs = require(\"fs\");\n",
    "const fsp = require(\"fs\").promises;\n",
    "\n",
    "// 일반적인 사용 예시\n",
    "fs.readFile(\"./result.json\", \"utf8\", (err, data) => {\n",
    "  if (err) {\n",
    "    console.error(err);\n",
    "  } else {\n",
    "    console.log(data);\n",
    "  }\n",
    "});"
   ]
  },
  {
   "cell_type": "code",
   "execution_count": 2,
   "id": "c0efbab0-0f34-4bf5-b6c0-2df203c9cc3c",
   "metadata": {},
   "outputs": [
    {
     "data": {
      "text/plain": [
       "Promise { <pending> }"
      ]
     },
     "execution_count": 2,
     "metadata": {},
     "output_type": "execute_result"
    },
    {
     "name": "stdout",
     "output_type": "stream",
     "text": [
      "Hello!\n"
     ]
    }
   ],
   "source": [
    "// promise를 사용해 간략화시킨 코드\n",
    "async function func() {\n",
    "    const f = await fsp.readFile('./result.json', 'utf8');\n",
    "    console.log(f)\n",
    "};\n",
    "\n",
    "func()"
   ]
  },
  {
   "cell_type": "markdown",
   "id": "920d3c01-c4a1-4828-9956-9b7a7917ded6",
   "metadata": {},
   "source": [
    "</p></br></br>\n",
    "\n",
    "## fs.writeFile()을 이용해 파일 쓰기\n",
    "---\n",
    "파일 쓰기를 위해서는, 같은 모듈의 `writeFile()` 함수를 활용할 수 있습니다. 이 때, 매개변수는 저장할 경로, 파일 내용, 인코딩 형식을 입력하시만 하면 됩니다. 자세한 사용 방법은 아래 코드를 참조해 주시기 바랍니다.\n",
    "</p></br></br>\n"
   ]
  },
  {
   "cell_type": "code",
   "execution_count": 3,
   "id": "afe1439b-10bd-4758-b98f-9b00e60254e8",
   "metadata": {},
   "outputs": [
    {
     "name": "stdout",
     "output_type": "stream",
     "text": [
      "File Saved\n"
     ]
    }
   ],
   "source": [
    "// 일반적인 사용 예시\n",
    "fs.writeFile(\"./result.json\", \"Hello!\", \"utf8\", (err, data) => {\n",
    "  if (err) {\n",
    "    console.error(err);\n",
    "  } else {\n",
    "    console.log(\"File Saved\");\n",
    "  }\n",
    "});"
   ]
  },
  {
   "cell_type": "code",
   "execution_count": 4,
   "id": "f1ef5663-ea69-4370-b3de-8da3f51a7480",
   "metadata": {},
   "outputs": [
    {
     "data": {
      "text/plain": [
       "Promise { <pending> }"
      ]
     },
     "execution_count": 4,
     "metadata": {},
     "output_type": "execute_result"
    },
    {
     "name": "stdout",
     "output_type": "stream",
     "text": [
      "File Saved\n"
     ]
    }
   ],
   "source": [
    "// promise를 사용해 간략화시킨 코드\n",
    "async function func() {\n",
    "    await fsp.writeFile('./result.json', \"Hello!\", 'utf8');\n",
    "    console.log(\"File Saved\")\n",
    "};\n",
    "\n",
    "func()"
   ]
  }
 ],
 "metadata": {
  "kernelspec": {
   "display_name": "JavaScript (Node.js)",
   "language": "javascript",
   "name": "javascript"
  },
  "language_info": {
   "file_extension": ".js",
   "mimetype": "application/javascript",
   "name": "javascript",
   "version": "20.12.0"
  },
  "widgets": {
   "application/vnd.jupyter.widget-state+json": {
    "state": {},
    "version_major": 2,
    "version_minor": 0
   }
  }
 },
 "nbformat": 4,
 "nbformat_minor": 5
}
